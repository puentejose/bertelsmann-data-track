{
 "cells": [
  {
   "cell_type": "markdown",
   "id": "7d994dd3",
   "metadata": {},
   "source": [
    "# Descriptive Statistics Part I"
   ]
  },
  {
   "cell_type": "markdown",
   "id": "5d4c41dc",
   "metadata": {},
   "source": [
    "### Quantitative Data\n",
    "Data with numeric values, can be:\n",
    "* **Continuous**: Travel distance, amount of rain in a given period, time.\n",
    "* **Discrete**: Number of pages in a book, people on a bus.\n",
    "### Qualitative Data\n",
    "Data with labels to identify as part of a group or set, it can be:\n",
    "* **Ordinal**: School Grades, Star ratings.\n",
    "* **Nominal**: Gender, civil status, movie genres, dog breeds.\n",
    "\n",
    "## The Four Aspects of Quantitative Data\n",
    "1. Measures of Center\n",
    "2. Measures of Spread\n",
    "3. Shape of Data\n",
    "4. Outliers\n",
    "\n",
    "## 1. Measures of Center\n",
    "* Mean\n",
    "* Median\n",
    "* Mode\n",
    "\n",
    "### Mean\n",
    "\n",
    "* Often called average or expected value.\n",
    "* It is calculated by adding all of the values together and dividing them by the number of values in our dataset.\n",
    "* Often represented with notation as:\n",
    "\\begin{equation}\n",
    "\\overline{x} = \\frac{1}{n}\\sum_{i=1}^{n} x_i\n",
    "\\end{equation}\n",
    "\n",
    "Where:\n",
    "* n is the total number of values in the set\n",
    "* i is the index of each of our data values"
   ]
  },
  {
   "cell_type": "code",
   "execution_count": 1,
   "id": "270bf849",
   "metadata": {},
   "outputs": [
    {
     "name": "stdout",
     "output_type": "stream",
     "text": [
      "The Mean value is: 9.56\n",
      "The Mean Value is: 9.56\n"
     ]
    }
   ],
   "source": [
    "import statistics as stats\n",
    "set1 = [5,8,15,7,10,22,3,1,15]\n",
    "x = stats.mean(set1)\n",
    "print(f'The Mean value is: {x:.2f}')\n",
    "\n",
    "# Another way to calculate the mean is to define a function and pass the set as an argument\n",
    "\n",
    "def mean(set):\n",
    "    return sum(set)/len(set)\n",
    "\n",
    "print(f'The Mean Value is: {mean(set1):.2f}')\n",
    "\n",
    "# Try to use a for loop for a challenge!"
   ]
  },
  {
   "cell_type": "markdown",
   "id": "77024e8f",
   "metadata": {},
   "source": [
    "### Median\n",
    "\n",
    "* Splits data so that 50% of our values are lower and 50% are higher.\n",
    "* Its value depends on the number of observations, if its **odd** we use the number directly in the middle, however if its **even** we take the average of the two values in the middle.\n",
    "* In order to calculate the median we **must sort our values first**\n",
    "* If we have the data:\n",
    "\\begin{equation}\n",
    "X = [5,8,15,7,10,22,3,1,15]\n",
    "\\end{equation}\n",
    "What is the median?"
   ]
  },
  {
   "cell_type": "code",
   "execution_count": 4,
   "id": "7874364b",
   "metadata": {},
   "outputs": [
    {
     "name": "stdout",
     "output_type": "stream",
     "text": [
      "The median value is: 8\n"
     ]
    }
   ],
   "source": [
    "# Data with an odd number of observations\n",
    "set2 = [5,8,15,7,10,22,3,1,15]\n",
    "median2 = stats.median(set2)\n",
    "print(f'The median value is: {median2}')"
   ]
  },
  {
   "cell_type": "code",
   "execution_count": 5,
   "id": "0e6a4ea1",
   "metadata": {},
   "outputs": [
    {
     "name": "stdout",
     "output_type": "stream",
     "text": [
      "The median value is: 7.5\n"
     ]
    }
   ],
   "source": [
    "# Data with an even number of observations\n",
    "set3 = [5,8,15,7,10,22,3,1,15,2]\n",
    "median3 = stats.median(set3)\n",
    "print(f'The median value is: {median3}')"
   ]
  },
  {
   "cell_type": "markdown",
   "id": "38ced87a",
   "metadata": {},
   "source": [
    "### Mode\n",
    "\n",
    "* It's the most frequent value in the dataset.\n",
    "* There might be many modes or no mode at all!\n",
    "* If all observations appear the same number of times then we say there is no mode.\n",
    "* If two or more numbers share the maximum value the we say we have many modes or that the dataset is a **multimodal** dataset, for example, if we have the dataset:\n",
    "\\begin{equation}\n",
    "Y = [1,2,3,3,3,4,5,6,6,6,7,8,9]\n",
    "\\end{equation}\n",
    "We say there are two modes, 3 and 6, because they appear three times each.\n",
    "\n",
    "### Random Variables\n",
    "\n",
    "* It's a placeholder for possible values.\n",
    "* Generally represented by capital letters.\n",
    "* We use lowercase letters for an outcome or observed value.\n",
    "\n",
    "### Mean\n",
    "\n",
    "* Often called average or expected value.\n",
    "* It is calculated by adding all of the values together and dividing them by the number of values in our dataset.\n",
    "* Often represented with notation as:\n",
    "\\begin{equation}\n",
    "\\overline{x} = \\frac{1}{n}\\sum_{i=1}^{n} x_i\n",
    "\\end{equation}\n",
    "\n",
    "Where:\n",
    "* n is the total number of values in the set\n",
    "* i is the index of each of our data values"
   ]
  }
 ],
 "metadata": {
  "kernelspec": {
   "display_name": "Python 3 (ipykernel)",
   "language": "python",
   "name": "python3"
  },
  "language_info": {
   "codemirror_mode": {
    "name": "ipython",
    "version": 3
   },
   "file_extension": ".py",
   "mimetype": "text/x-python",
   "name": "python",
   "nbconvert_exporter": "python",
   "pygments_lexer": "ipython3",
   "version": "3.9.7"
  }
 },
 "nbformat": 4,
 "nbformat_minor": 5
}
