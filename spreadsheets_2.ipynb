{
 "cells": [
  {
   "cell_type": "markdown",
   "id": "23dfcd78",
   "metadata": {},
   "source": [
    "# Manipulating Data\n",
    "\n",
    "You can manipulate data with help of different methods, some of the things you can do are:\n",
    "* Change text\n",
    "* Perform math operations\n",
    "* Sort data"
   ]
  },
  {
   "cell_type": "code",
   "execution_count": 1,
   "id": "55447e37",
   "metadata": {},
   "outputs": [],
   "source": [
    "# TODOs\n",
    "# Sum example\n",
    "# Average Example\n",
    "# Substitute text\n",
    "# Remove Duplicate Rows\n",
    "# Split Column by delimiter\n",
    "# Sort Data\n",
    "# Filter data"
   ]
  },
  {
   "cell_type": "markdown",
   "id": "c4d3abcb",
   "metadata": {},
   "source": [
    "## How to SUM columns in Pandas\n",
    "Adding up columns in pandas is easy, just use the .sum() method."
   ]
  },
  {
   "cell_type": "code",
   "execution_count": 2,
   "id": "be5078cd",
   "metadata": {},
   "outputs": [
    {
     "name": "stdout",
     "output_type": "stream",
     "text": [
      "       Name  Age     Favorite Hobby\n",
      "0      Jose   10        Watch anime\n",
      "1  Josefina   15       Build models\n",
      "2    Joseph   12            Dancing\n",
      "3    Jotaro   13    Play Videogames\n",
      "4  Joseline   16            Running\n",
      "5     Jorge   14  Play with animals\n"
     ]
    }
   ],
   "source": [
    "import pandas as pd\n",
    "\n",
    "data = [['Jose',10, 'Watch anime'],['Josefina',15, \"Build models\"],['Joseph',12, 'Dancing'],['Jotaro',13, 'Play Videogames'], ['Joseline',16, 'Running'],['Jorge', 14, 'Play with animals']]\n",
    "df = pd.DataFrame(data,columns=['Name','Age','Favorite Hobby'])\n",
    "print(df)"
   ]
  },
  {
   "cell_type": "code",
   "execution_count": 10,
   "id": "44b9a7fd",
   "metadata": {},
   "outputs": [
    {
     "name": "stdout",
     "output_type": "stream",
     "text": [
      "The total years sum is 80.00\n"
     ]
    }
   ],
   "source": [
    "jojos_total_years_sum = df['Age'].sum()\n",
    "print(f'The total years sum is {jojos_total_years_sum:.2f}')"
   ]
  },
  {
   "cell_type": "markdown",
   "id": "e31384f6",
   "metadata": {},
   "source": [
    "## Mean\n",
    "We use the mean() method, this is sorta becoming repetitive."
   ]
  },
  {
   "cell_type": "code",
   "execution_count": 11,
   "id": "80101cde",
   "metadata": {},
   "outputs": [
    {
     "name": "stdout",
     "output_type": "stream",
     "text": [
      "The average age of these JoJo's is: 13.33\n"
     ]
    }
   ],
   "source": [
    "jojos_age_mean = df['Age'].mean()\n",
    "print(f'The average age of these JoJo\\'s is: {jojos_age_mean:.2f}')"
   ]
  },
  {
   "cell_type": "code",
   "execution_count": null,
   "id": "63b9e8da",
   "metadata": {},
   "outputs": [],
   "source": []
  }
 ],
 "metadata": {
  "kernelspec": {
   "display_name": "Python 3 (ipykernel)",
   "language": "python",
   "name": "python3"
  },
  "language_info": {
   "codemirror_mode": {
    "name": "ipython",
    "version": 3
   },
   "file_extension": ".py",
   "mimetype": "text/x-python",
   "name": "python",
   "nbconvert_exporter": "python",
   "pygments_lexer": "ipython3",
   "version": "3.9.7"
  }
 },
 "nbformat": 4,
 "nbformat_minor": 5
}
