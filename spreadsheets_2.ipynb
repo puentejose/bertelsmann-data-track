{
 "cells": [
  {
   "cell_type": "markdown",
   "id": "23dfcd78",
   "metadata": {},
   "source": [
    "# Manipulating Data\n",
    "\n",
    "You can manipulate data with help of different methods, some of the things you can do are:\n",
    "* Change text\n",
    "* Perform math operations\n",
    "* Sort data"
   ]
  },
  {
   "cell_type": "code",
   "execution_count": 1,
   "id": "55447e37",
   "metadata": {},
   "outputs": [],
   "source": [
    "# TODOs\n",
    "# Sort Data\n",
    "# Filter data"
   ]
  },
  {
   "cell_type": "markdown",
   "id": "c4d3abcb",
   "metadata": {},
   "source": [
    "## How to SUM columns in Pandas\n",
    "Adding up columns in pandas is easy, just use the .sum() method."
   ]
  },
  {
   "cell_type": "code",
   "execution_count": 2,
   "id": "be5078cd",
   "metadata": {},
   "outputs": [
    {
     "data": {
      "text/html": [
       "<div>\n",
       "<style scoped>\n",
       "    .dataframe tbody tr th:only-of-type {\n",
       "        vertical-align: middle;\n",
       "    }\n",
       "\n",
       "    .dataframe tbody tr th {\n",
       "        vertical-align: top;\n",
       "    }\n",
       "\n",
       "    .dataframe thead th {\n",
       "        text-align: right;\n",
       "    }\n",
       "</style>\n",
       "<table border=\"1\" class=\"dataframe\">\n",
       "  <thead>\n",
       "    <tr style=\"text-align: right;\">\n",
       "      <th></th>\n",
       "      <th>name</th>\n",
       "      <th>age</th>\n",
       "      <th>favorite hobby</th>\n",
       "    </tr>\n",
       "  </thead>\n",
       "  <tbody>\n",
       "    <tr>\n",
       "      <th>0</th>\n",
       "      <td>Puente, Jose</td>\n",
       "      <td>10</td>\n",
       "      <td>Watch anime</td>\n",
       "    </tr>\n",
       "    <tr>\n",
       "      <th>1</th>\n",
       "      <td>Madrigal, Josefina</td>\n",
       "      <td>15</td>\n",
       "      <td>Build models</td>\n",
       "    </tr>\n",
       "    <tr>\n",
       "      <th>2</th>\n",
       "      <td>Gaona, Joseph</td>\n",
       "      <td>12</td>\n",
       "      <td>Dancing</td>\n",
       "    </tr>\n",
       "    <tr>\n",
       "      <th>3</th>\n",
       "      <td>Johnson, Jotaro</td>\n",
       "      <td>13</td>\n",
       "      <td>Play Videogames</td>\n",
       "    </tr>\n",
       "    <tr>\n",
       "      <th>4</th>\n",
       "      <td>Chisaka, Joseline</td>\n",
       "      <td>16</td>\n",
       "      <td>Running</td>\n",
       "    </tr>\n",
       "    <tr>\n",
       "      <th>5</th>\n",
       "      <td>Issawi, Jorge</td>\n",
       "      <td>14</td>\n",
       "      <td>Play with animals</td>\n",
       "    </tr>\n",
       "    <tr>\n",
       "      <th>6</th>\n",
       "      <td>Dalal, Joe</td>\n",
       "      <td>17</td>\n",
       "      <td>Reading</td>\n",
       "    </tr>\n",
       "  </tbody>\n",
       "</table>\n",
       "</div>"
      ],
      "text/plain": [
       "                 name  age     favorite hobby\n",
       "0        Puente, Jose   10        Watch anime\n",
       "1  Madrigal, Josefina   15       Build models\n",
       "2       Gaona, Joseph   12            Dancing\n",
       "3     Johnson, Jotaro   13    Play Videogames\n",
       "4   Chisaka, Joseline   16            Running\n",
       "5       Issawi, Jorge   14  Play with animals\n",
       "6          Dalal, Joe   17            Reading"
      ]
     },
     "execution_count": 2,
     "metadata": {},
     "output_type": "execute_result"
    }
   ],
   "source": [
    "import pandas as pd\n",
    "\n",
    "data = [['Puente, Jose',10, 'Watch anime'],['Madrigal, Josefina',15, \"Build models\"],['Gaona, Joseph',12, 'Dancing'],['Johnson, Jotaro',13, 'Play Videogames'], ['Chisaka, Joseline',16, 'Running'],['Issawi, Jorge', 14, 'Play with animals'],['Dalal, Joe',17,'Reading']]\n",
    "df = pd.DataFrame(data,columns=['name','age','favorite hobby'])\n",
    "df"
   ]
  },
  {
   "cell_type": "code",
   "execution_count": 3,
   "id": "44b9a7fd",
   "metadata": {},
   "outputs": [
    {
     "name": "stdout",
     "output_type": "stream",
     "text": [
      "The total years sum is 97.00\n"
     ]
    }
   ],
   "source": [
    "jojos_total_years_sum = df['age'].sum()\n",
    "print(f'The total years sum is {jojos_total_years_sum:.2f}')"
   ]
  },
  {
   "cell_type": "markdown",
   "id": "e31384f6",
   "metadata": {},
   "source": [
    "## Mean\n",
    "We use the mean() method, this is sorta becoming repetitive."
   ]
  },
  {
   "cell_type": "code",
   "execution_count": 4,
   "id": "80101cde",
   "metadata": {},
   "outputs": [
    {
     "name": "stdout",
     "output_type": "stream",
     "text": [
      "The average age of these JoJo's is: 13.86\n"
     ]
    }
   ],
   "source": [
    "jojos_age_mean = df['age'].mean()\n",
    "print(f'The average age of these JoJo\\'s is: {jojos_age_mean:.2f}')"
   ]
  },
  {
   "cell_type": "markdown",
   "id": "2110e853",
   "metadata": {},
   "source": [
    "## Replace Text\n",
    "This is how you replace text on a single column with Pandas.\n",
    "\n",
    "Notice that the str.replace method returns just the column without changing te original dataframe, so we have to assign the returned value to the original dataframe column."
   ]
  },
  {
   "cell_type": "code",
   "execution_count": 5,
   "id": "4f01bb9f",
   "metadata": {
    "scrolled": true
   },
   "outputs": [],
   "source": [
    "df['favorite hobby'] = df['favorite hobby'].str.replace('anime','cartoons')"
   ]
  },
  {
   "cell_type": "code",
   "execution_count": 6,
   "id": "8c418785",
   "metadata": {},
   "outputs": [
    {
     "data": {
      "text/html": [
       "<div>\n",
       "<style scoped>\n",
       "    .dataframe tbody tr th:only-of-type {\n",
       "        vertical-align: middle;\n",
       "    }\n",
       "\n",
       "    .dataframe tbody tr th {\n",
       "        vertical-align: top;\n",
       "    }\n",
       "\n",
       "    .dataframe thead th {\n",
       "        text-align: right;\n",
       "    }\n",
       "</style>\n",
       "<table border=\"1\" class=\"dataframe\">\n",
       "  <thead>\n",
       "    <tr style=\"text-align: right;\">\n",
       "      <th></th>\n",
       "      <th>name</th>\n",
       "      <th>age</th>\n",
       "      <th>favorite hobby</th>\n",
       "    </tr>\n",
       "  </thead>\n",
       "  <tbody>\n",
       "    <tr>\n",
       "      <th>0</th>\n",
       "      <td>Puente, Jose</td>\n",
       "      <td>10</td>\n",
       "      <td>Watch cartoons</td>\n",
       "    </tr>\n",
       "    <tr>\n",
       "      <th>1</th>\n",
       "      <td>Madrigal, Josefina</td>\n",
       "      <td>15</td>\n",
       "      <td>Build models</td>\n",
       "    </tr>\n",
       "    <tr>\n",
       "      <th>2</th>\n",
       "      <td>Gaona, Joseph</td>\n",
       "      <td>12</td>\n",
       "      <td>Dancing</td>\n",
       "    </tr>\n",
       "    <tr>\n",
       "      <th>3</th>\n",
       "      <td>Johnson, Jotaro</td>\n",
       "      <td>13</td>\n",
       "      <td>Play Videogames</td>\n",
       "    </tr>\n",
       "    <tr>\n",
       "      <th>4</th>\n",
       "      <td>Chisaka, Joseline</td>\n",
       "      <td>16</td>\n",
       "      <td>Running</td>\n",
       "    </tr>\n",
       "    <tr>\n",
       "      <th>5</th>\n",
       "      <td>Issawi, Jorge</td>\n",
       "      <td>14</td>\n",
       "      <td>Play with animals</td>\n",
       "    </tr>\n",
       "    <tr>\n",
       "      <th>6</th>\n",
       "      <td>Dalal, Joe</td>\n",
       "      <td>17</td>\n",
       "      <td>Reading</td>\n",
       "    </tr>\n",
       "  </tbody>\n",
       "</table>\n",
       "</div>"
      ],
      "text/plain": [
       "                 name  age     favorite hobby\n",
       "0        Puente, Jose   10     Watch cartoons\n",
       "1  Madrigal, Josefina   15       Build models\n",
       "2       Gaona, Joseph   12            Dancing\n",
       "3     Johnson, Jotaro   13    Play Videogames\n",
       "4   Chisaka, Joseline   16            Running\n",
       "5       Issawi, Jorge   14  Play with animals\n",
       "6          Dalal, Joe   17            Reading"
      ]
     },
     "execution_count": 6,
     "metadata": {},
     "output_type": "execute_result"
    }
   ],
   "source": [
    "df"
   ]
  },
  {
   "cell_type": "markdown",
   "id": "1e97648e",
   "metadata": {},
   "source": [
    "## Format text\n",
    "We can also format text with string methods like str.upper(), str.lower(), str.capitalize() & str.title()"
   ]
  },
  {
   "cell_type": "code",
   "execution_count": 7,
   "id": "0b0fc345",
   "metadata": {
    "scrolled": true
   },
   "outputs": [
    {
     "data": {
      "text/html": [
       "<div>\n",
       "<style scoped>\n",
       "    .dataframe tbody tr th:only-of-type {\n",
       "        vertical-align: middle;\n",
       "    }\n",
       "\n",
       "    .dataframe tbody tr th {\n",
       "        vertical-align: top;\n",
       "    }\n",
       "\n",
       "    .dataframe thead th {\n",
       "        text-align: right;\n",
       "    }\n",
       "</style>\n",
       "<table border=\"1\" class=\"dataframe\">\n",
       "  <thead>\n",
       "    <tr style=\"text-align: right;\">\n",
       "      <th></th>\n",
       "      <th>name</th>\n",
       "      <th>age</th>\n",
       "      <th>favorite hobby</th>\n",
       "    </tr>\n",
       "  </thead>\n",
       "  <tbody>\n",
       "    <tr>\n",
       "      <th>0</th>\n",
       "      <td>PUENTE, JOSE</td>\n",
       "      <td>10</td>\n",
       "      <td>Watch cartoons</td>\n",
       "    </tr>\n",
       "    <tr>\n",
       "      <th>1</th>\n",
       "      <td>MADRIGAL, JOSEFINA</td>\n",
       "      <td>15</td>\n",
       "      <td>Build models</td>\n",
       "    </tr>\n",
       "    <tr>\n",
       "      <th>2</th>\n",
       "      <td>GAONA, JOSEPH</td>\n",
       "      <td>12</td>\n",
       "      <td>Dancing</td>\n",
       "    </tr>\n",
       "    <tr>\n",
       "      <th>3</th>\n",
       "      <td>JOHNSON, JOTARO</td>\n",
       "      <td>13</td>\n",
       "      <td>Play Videogames</td>\n",
       "    </tr>\n",
       "    <tr>\n",
       "      <th>4</th>\n",
       "      <td>CHISAKA, JOSELINE</td>\n",
       "      <td>16</td>\n",
       "      <td>Running</td>\n",
       "    </tr>\n",
       "    <tr>\n",
       "      <th>5</th>\n",
       "      <td>ISSAWI, JORGE</td>\n",
       "      <td>14</td>\n",
       "      <td>Play with animals</td>\n",
       "    </tr>\n",
       "    <tr>\n",
       "      <th>6</th>\n",
       "      <td>DALAL, JOE</td>\n",
       "      <td>17</td>\n",
       "      <td>Reading</td>\n",
       "    </tr>\n",
       "  </tbody>\n",
       "</table>\n",
       "</div>"
      ],
      "text/plain": [
       "                 name  age     favorite hobby\n",
       "0        PUENTE, JOSE   10     Watch cartoons\n",
       "1  MADRIGAL, JOSEFINA   15       Build models\n",
       "2       GAONA, JOSEPH   12            Dancing\n",
       "3     JOHNSON, JOTARO   13    Play Videogames\n",
       "4   CHISAKA, JOSELINE   16            Running\n",
       "5       ISSAWI, JORGE   14  Play with animals\n",
       "6          DALAL, JOE   17            Reading"
      ]
     },
     "execution_count": 7,
     "metadata": {},
     "output_type": "execute_result"
    }
   ],
   "source": [
    "df['name'] = df['name'].str.upper()\n",
    "df"
   ]
  },
  {
   "cell_type": "markdown",
   "id": "fe6a9add",
   "metadata": {},
   "source": [
    "## Add a new row or filter duplicate rows\n",
    "We can add new elements to our dataframe with **loc** property, loc is a complex property which could have its own section, for our purposes we will just be passing it the length of our DataFrame to tell it we want our new row at the end."
   ]
  },
  {
   "cell_type": "code",
   "execution_count": 8,
   "id": "12b714e6",
   "metadata": {},
   "outputs": [
    {
     "data": {
      "text/html": [
       "<div>\n",
       "<style scoped>\n",
       "    .dataframe tbody tr th:only-of-type {\n",
       "        vertical-align: middle;\n",
       "    }\n",
       "\n",
       "    .dataframe tbody tr th {\n",
       "        vertical-align: top;\n",
       "    }\n",
       "\n",
       "    .dataframe thead th {\n",
       "        text-align: right;\n",
       "    }\n",
       "</style>\n",
       "<table border=\"1\" class=\"dataframe\">\n",
       "  <thead>\n",
       "    <tr style=\"text-align: right;\">\n",
       "      <th></th>\n",
       "      <th>name</th>\n",
       "      <th>age</th>\n",
       "      <th>favorite hobby</th>\n",
       "    </tr>\n",
       "  </thead>\n",
       "  <tbody>\n",
       "    <tr>\n",
       "      <th>0</th>\n",
       "      <td>PUENTE, JOSE</td>\n",
       "      <td>10</td>\n",
       "      <td>Watch cartoons</td>\n",
       "    </tr>\n",
       "    <tr>\n",
       "      <th>1</th>\n",
       "      <td>MADRIGAL, JOSEFINA</td>\n",
       "      <td>15</td>\n",
       "      <td>Build models</td>\n",
       "    </tr>\n",
       "    <tr>\n",
       "      <th>2</th>\n",
       "      <td>GAONA, JOSEPH</td>\n",
       "      <td>12</td>\n",
       "      <td>Dancing</td>\n",
       "    </tr>\n",
       "    <tr>\n",
       "      <th>3</th>\n",
       "      <td>JOHNSON, JOTARO</td>\n",
       "      <td>13</td>\n",
       "      <td>Play Videogames</td>\n",
       "    </tr>\n",
       "    <tr>\n",
       "      <th>4</th>\n",
       "      <td>CHISAKA, JOSELINE</td>\n",
       "      <td>16</td>\n",
       "      <td>Running</td>\n",
       "    </tr>\n",
       "    <tr>\n",
       "      <th>5</th>\n",
       "      <td>ISSAWI, JORGE</td>\n",
       "      <td>14</td>\n",
       "      <td>Play with animals</td>\n",
       "    </tr>\n",
       "    <tr>\n",
       "      <th>6</th>\n",
       "      <td>DALAL, JOE</td>\n",
       "      <td>17</td>\n",
       "      <td>Reading</td>\n",
       "    </tr>\n",
       "    <tr>\n",
       "      <th>7</th>\n",
       "      <td>PUENTE, JOSE</td>\n",
       "      <td>10</td>\n",
       "      <td>Watch cartoons</td>\n",
       "    </tr>\n",
       "  </tbody>\n",
       "</table>\n",
       "</div>"
      ],
      "text/plain": [
       "                 name  age     favorite hobby\n",
       "0        PUENTE, JOSE   10     Watch cartoons\n",
       "1  MADRIGAL, JOSEFINA   15       Build models\n",
       "2       GAONA, JOSEPH   12            Dancing\n",
       "3     JOHNSON, JOTARO   13    Play Videogames\n",
       "4   CHISAKA, JOSELINE   16            Running\n",
       "5       ISSAWI, JORGE   14  Play with animals\n",
       "6          DALAL, JOE   17            Reading\n",
       "7        PUENTE, JOSE   10     Watch cartoons"
      ]
     },
     "execution_count": 8,
     "metadata": {},
     "output_type": "execute_result"
    }
   ],
   "source": [
    "df.loc[len(df.index)] = ['PUENTE, JOSE',10,'Watch cartoons']\n",
    "df"
   ]
  },
  {
   "cell_type": "markdown",
   "id": "b1abab4c",
   "metadata": {},
   "source": [
    "**duplicated()** gives us a list of booleans where *True* only appears for a row that has previously appeared, in our case that's our last one (7)"
   ]
  },
  {
   "cell_type": "code",
   "execution_count": 9,
   "id": "f3e40366",
   "metadata": {
    "scrolled": true
   },
   "outputs": [
    {
     "data": {
      "text/plain": [
       "0    False\n",
       "1    False\n",
       "2    False\n",
       "3    False\n",
       "4    False\n",
       "5    False\n",
       "6    False\n",
       "7     True\n",
       "dtype: bool"
      ]
     },
     "execution_count": 9,
     "metadata": {},
     "output_type": "execute_result"
    }
   ],
   "source": [
    "df.duplicated()"
   ]
  },
  {
   "cell_type": "markdown",
   "id": "88d0c8b8",
   "metadata": {},
   "source": [
    "Pandas has a built-in method to drop duplicate rows, simply called **.drop_duplicates**. The **inplace=True** argument is telling panda to change our original DataFrame."
   ]
  },
  {
   "cell_type": "code",
   "execution_count": 10,
   "id": "f221d3f0",
   "metadata": {},
   "outputs": [
    {
     "data": {
      "text/html": [
       "<div>\n",
       "<style scoped>\n",
       "    .dataframe tbody tr th:only-of-type {\n",
       "        vertical-align: middle;\n",
       "    }\n",
       "\n",
       "    .dataframe tbody tr th {\n",
       "        vertical-align: top;\n",
       "    }\n",
       "\n",
       "    .dataframe thead th {\n",
       "        text-align: right;\n",
       "    }\n",
       "</style>\n",
       "<table border=\"1\" class=\"dataframe\">\n",
       "  <thead>\n",
       "    <tr style=\"text-align: right;\">\n",
       "      <th></th>\n",
       "      <th>name</th>\n",
       "      <th>age</th>\n",
       "      <th>favorite hobby</th>\n",
       "    </tr>\n",
       "  </thead>\n",
       "  <tbody>\n",
       "    <tr>\n",
       "      <th>0</th>\n",
       "      <td>PUENTE, JOSE</td>\n",
       "      <td>10</td>\n",
       "      <td>Watch cartoons</td>\n",
       "    </tr>\n",
       "    <tr>\n",
       "      <th>1</th>\n",
       "      <td>MADRIGAL, JOSEFINA</td>\n",
       "      <td>15</td>\n",
       "      <td>Build models</td>\n",
       "    </tr>\n",
       "    <tr>\n",
       "      <th>2</th>\n",
       "      <td>GAONA, JOSEPH</td>\n",
       "      <td>12</td>\n",
       "      <td>Dancing</td>\n",
       "    </tr>\n",
       "    <tr>\n",
       "      <th>3</th>\n",
       "      <td>JOHNSON, JOTARO</td>\n",
       "      <td>13</td>\n",
       "      <td>Play Videogames</td>\n",
       "    </tr>\n",
       "    <tr>\n",
       "      <th>4</th>\n",
       "      <td>CHISAKA, JOSELINE</td>\n",
       "      <td>16</td>\n",
       "      <td>Running</td>\n",
       "    </tr>\n",
       "    <tr>\n",
       "      <th>5</th>\n",
       "      <td>ISSAWI, JORGE</td>\n",
       "      <td>14</td>\n",
       "      <td>Play with animals</td>\n",
       "    </tr>\n",
       "    <tr>\n",
       "      <th>6</th>\n",
       "      <td>DALAL, JOE</td>\n",
       "      <td>17</td>\n",
       "      <td>Reading</td>\n",
       "    </tr>\n",
       "  </tbody>\n",
       "</table>\n",
       "</div>"
      ],
      "text/plain": [
       "                 name  age     favorite hobby\n",
       "0        PUENTE, JOSE   10     Watch cartoons\n",
       "1  MADRIGAL, JOSEFINA   15       Build models\n",
       "2       GAONA, JOSEPH   12            Dancing\n",
       "3     JOHNSON, JOTARO   13    Play Videogames\n",
       "4   CHISAKA, JOSELINE   16            Running\n",
       "5       ISSAWI, JORGE   14  Play with animals\n",
       "6          DALAL, JOE   17            Reading"
      ]
     },
     "execution_count": 10,
     "metadata": {},
     "output_type": "execute_result"
    }
   ],
   "source": [
    "df.drop_duplicates(inplace=True)\n",
    "df"
   ]
  },
  {
   "cell_type": "markdown",
   "id": "1f2384c7",
   "metadata": {},
   "source": [
    "## Splitting a text column with a delimiter\n"
   ]
  },
  {
   "cell_type": "code",
   "execution_count": 11,
   "id": "8556843a",
   "metadata": {},
   "outputs": [
    {
     "data": {
      "text/html": [
       "<div>\n",
       "<style scoped>\n",
       "    .dataframe tbody tr th:only-of-type {\n",
       "        vertical-align: middle;\n",
       "    }\n",
       "\n",
       "    .dataframe tbody tr th {\n",
       "        vertical-align: top;\n",
       "    }\n",
       "\n",
       "    .dataframe thead th {\n",
       "        text-align: right;\n",
       "    }\n",
       "</style>\n",
       "<table border=\"1\" class=\"dataframe\">\n",
       "  <thead>\n",
       "    <tr style=\"text-align: right;\">\n",
       "      <th></th>\n",
       "      <th>name</th>\n",
       "      <th>age</th>\n",
       "      <th>favorite hobby</th>\n",
       "      <th>Last name</th>\n",
       "      <th>First name</th>\n",
       "    </tr>\n",
       "  </thead>\n",
       "  <tbody>\n",
       "    <tr>\n",
       "      <th>0</th>\n",
       "      <td>PUENTE, JOSE</td>\n",
       "      <td>10</td>\n",
       "      <td>Watch cartoons</td>\n",
       "      <td>PUENTE</td>\n",
       "      <td>JOSE</td>\n",
       "    </tr>\n",
       "    <tr>\n",
       "      <th>1</th>\n",
       "      <td>MADRIGAL, JOSEFINA</td>\n",
       "      <td>15</td>\n",
       "      <td>Build models</td>\n",
       "      <td>MADRIGAL</td>\n",
       "      <td>JOSEFINA</td>\n",
       "    </tr>\n",
       "    <tr>\n",
       "      <th>2</th>\n",
       "      <td>GAONA, JOSEPH</td>\n",
       "      <td>12</td>\n",
       "      <td>Dancing</td>\n",
       "      <td>GAONA</td>\n",
       "      <td>JOSEPH</td>\n",
       "    </tr>\n",
       "    <tr>\n",
       "      <th>3</th>\n",
       "      <td>JOHNSON, JOTARO</td>\n",
       "      <td>13</td>\n",
       "      <td>Play Videogames</td>\n",
       "      <td>JOHNSON</td>\n",
       "      <td>JOTARO</td>\n",
       "    </tr>\n",
       "    <tr>\n",
       "      <th>4</th>\n",
       "      <td>CHISAKA, JOSELINE</td>\n",
       "      <td>16</td>\n",
       "      <td>Running</td>\n",
       "      <td>CHISAKA</td>\n",
       "      <td>JOSELINE</td>\n",
       "    </tr>\n",
       "    <tr>\n",
       "      <th>5</th>\n",
       "      <td>ISSAWI, JORGE</td>\n",
       "      <td>14</td>\n",
       "      <td>Play with animals</td>\n",
       "      <td>ISSAWI</td>\n",
       "      <td>JORGE</td>\n",
       "    </tr>\n",
       "    <tr>\n",
       "      <th>6</th>\n",
       "      <td>DALAL, JOE</td>\n",
       "      <td>17</td>\n",
       "      <td>Reading</td>\n",
       "      <td>DALAL</td>\n",
       "      <td>JOE</td>\n",
       "    </tr>\n",
       "  </tbody>\n",
       "</table>\n",
       "</div>"
      ],
      "text/plain": [
       "                 name  age     favorite hobby Last name First name\n",
       "0        PUENTE, JOSE   10     Watch cartoons    PUENTE       JOSE\n",
       "1  MADRIGAL, JOSEFINA   15       Build models  MADRIGAL   JOSEFINA\n",
       "2       GAONA, JOSEPH   12            Dancing     GAONA     JOSEPH\n",
       "3     JOHNSON, JOTARO   13    Play Videogames   JOHNSON     JOTARO\n",
       "4   CHISAKA, JOSELINE   16            Running   CHISAKA   JOSELINE\n",
       "5       ISSAWI, JORGE   14  Play with animals    ISSAWI      JORGE\n",
       "6          DALAL, JOE   17            Reading     DALAL        JOE"
      ]
     },
     "execution_count": 11,
     "metadata": {},
     "output_type": "execute_result"
    }
   ],
   "source": [
    "df[['Last name', 'First name']] = df['name'].str.split(',', 1, expand=True)\n",
    "df"
   ]
  },
  {
   "cell_type": "markdown",
   "id": "0d9b2dd1",
   "metadata": {},
   "source": [
    "Now our DataFrame looks out of order, so let's tidy up, we will delete the original *name* column and put *First name* first and then our *Last name* columns."
   ]
  },
  {
   "cell_type": "code",
   "execution_count": 12,
   "id": "3b6859c9",
   "metadata": {},
   "outputs": [
    {
     "data": {
      "text/html": [
       "<div>\n",
       "<style scoped>\n",
       "    .dataframe tbody tr th:only-of-type {\n",
       "        vertical-align: middle;\n",
       "    }\n",
       "\n",
       "    .dataframe tbody tr th {\n",
       "        vertical-align: top;\n",
       "    }\n",
       "\n",
       "    .dataframe thead th {\n",
       "        text-align: right;\n",
       "    }\n",
       "</style>\n",
       "<table border=\"1\" class=\"dataframe\">\n",
       "  <thead>\n",
       "    <tr style=\"text-align: right;\">\n",
       "      <th></th>\n",
       "      <th>First name</th>\n",
       "      <th>Last name</th>\n",
       "      <th>age</th>\n",
       "      <th>favorite hobby</th>\n",
       "    </tr>\n",
       "  </thead>\n",
       "  <tbody>\n",
       "    <tr>\n",
       "      <th>0</th>\n",
       "      <td>JOSE</td>\n",
       "      <td>PUENTE</td>\n",
       "      <td>10</td>\n",
       "      <td>Watch cartoons</td>\n",
       "    </tr>\n",
       "    <tr>\n",
       "      <th>1</th>\n",
       "      <td>JOSEFINA</td>\n",
       "      <td>MADRIGAL</td>\n",
       "      <td>15</td>\n",
       "      <td>Build models</td>\n",
       "    </tr>\n",
       "    <tr>\n",
       "      <th>2</th>\n",
       "      <td>JOSEPH</td>\n",
       "      <td>GAONA</td>\n",
       "      <td>12</td>\n",
       "      <td>Dancing</td>\n",
       "    </tr>\n",
       "    <tr>\n",
       "      <th>3</th>\n",
       "      <td>JOTARO</td>\n",
       "      <td>JOHNSON</td>\n",
       "      <td>13</td>\n",
       "      <td>Play Videogames</td>\n",
       "    </tr>\n",
       "    <tr>\n",
       "      <th>4</th>\n",
       "      <td>JOSELINE</td>\n",
       "      <td>CHISAKA</td>\n",
       "      <td>16</td>\n",
       "      <td>Running</td>\n",
       "    </tr>\n",
       "    <tr>\n",
       "      <th>5</th>\n",
       "      <td>JORGE</td>\n",
       "      <td>ISSAWI</td>\n",
       "      <td>14</td>\n",
       "      <td>Play with animals</td>\n",
       "    </tr>\n",
       "    <tr>\n",
       "      <th>6</th>\n",
       "      <td>JOE</td>\n",
       "      <td>DALAL</td>\n",
       "      <td>17</td>\n",
       "      <td>Reading</td>\n",
       "    </tr>\n",
       "  </tbody>\n",
       "</table>\n",
       "</div>"
      ],
      "text/plain": [
       "  First name Last name  age     favorite hobby\n",
       "0       JOSE    PUENTE   10     Watch cartoons\n",
       "1   JOSEFINA  MADRIGAL   15       Build models\n",
       "2     JOSEPH     GAONA   12            Dancing\n",
       "3     JOTARO   JOHNSON   13    Play Videogames\n",
       "4   JOSELINE   CHISAKA   16            Running\n",
       "5      JORGE    ISSAWI   14  Play with animals\n",
       "6        JOE     DALAL   17            Reading"
      ]
     },
     "execution_count": 12,
     "metadata": {},
     "output_type": "execute_result"
    }
   ],
   "source": [
    "# Drop the name column\n",
    "df.drop(['name'], axis=1)\n",
    "# Reorder columns\n",
    "df = df[['First name', 'Last name','age','favorite hobby']]\n",
    "df"
   ]
  },
  {
   "cell_type": "markdown",
   "id": "8f8c8fa1",
   "metadata": {},
   "source": [
    "## Sort data\n",
    "We can sort a DataFrame by values on a column with the **.sort_values** method, this method can take multiple arguments, for now we will use the column name."
   ]
  },
  {
   "cell_type": "code",
   "execution_count": 13,
   "id": "ae146446",
   "metadata": {},
   "outputs": [
    {
     "data": {
      "text/html": [
       "<div>\n",
       "<style scoped>\n",
       "    .dataframe tbody tr th:only-of-type {\n",
       "        vertical-align: middle;\n",
       "    }\n",
       "\n",
       "    .dataframe tbody tr th {\n",
       "        vertical-align: top;\n",
       "    }\n",
       "\n",
       "    .dataframe thead th {\n",
       "        text-align: right;\n",
       "    }\n",
       "</style>\n",
       "<table border=\"1\" class=\"dataframe\">\n",
       "  <thead>\n",
       "    <tr style=\"text-align: right;\">\n",
       "      <th></th>\n",
       "      <th>First name</th>\n",
       "      <th>Last name</th>\n",
       "      <th>age</th>\n",
       "      <th>favorite hobby</th>\n",
       "    </tr>\n",
       "  </thead>\n",
       "  <tbody>\n",
       "    <tr>\n",
       "      <th>0</th>\n",
       "      <td>JOSE</td>\n",
       "      <td>PUENTE</td>\n",
       "      <td>10</td>\n",
       "      <td>Watch cartoons</td>\n",
       "    </tr>\n",
       "    <tr>\n",
       "      <th>2</th>\n",
       "      <td>JOSEPH</td>\n",
       "      <td>GAONA</td>\n",
       "      <td>12</td>\n",
       "      <td>Dancing</td>\n",
       "    </tr>\n",
       "    <tr>\n",
       "      <th>3</th>\n",
       "      <td>JOTARO</td>\n",
       "      <td>JOHNSON</td>\n",
       "      <td>13</td>\n",
       "      <td>Play Videogames</td>\n",
       "    </tr>\n",
       "    <tr>\n",
       "      <th>5</th>\n",
       "      <td>JORGE</td>\n",
       "      <td>ISSAWI</td>\n",
       "      <td>14</td>\n",
       "      <td>Play with animals</td>\n",
       "    </tr>\n",
       "    <tr>\n",
       "      <th>1</th>\n",
       "      <td>JOSEFINA</td>\n",
       "      <td>MADRIGAL</td>\n",
       "      <td>15</td>\n",
       "      <td>Build models</td>\n",
       "    </tr>\n",
       "    <tr>\n",
       "      <th>4</th>\n",
       "      <td>JOSELINE</td>\n",
       "      <td>CHISAKA</td>\n",
       "      <td>16</td>\n",
       "      <td>Running</td>\n",
       "    </tr>\n",
       "    <tr>\n",
       "      <th>6</th>\n",
       "      <td>JOE</td>\n",
       "      <td>DALAL</td>\n",
       "      <td>17</td>\n",
       "      <td>Reading</td>\n",
       "    </tr>\n",
       "  </tbody>\n",
       "</table>\n",
       "</div>"
      ],
      "text/plain": [
       "  First name Last name  age     favorite hobby\n",
       "0       JOSE    PUENTE   10     Watch cartoons\n",
       "2     JOSEPH     GAONA   12            Dancing\n",
       "3     JOTARO   JOHNSON   13    Play Videogames\n",
       "5      JORGE    ISSAWI   14  Play with animals\n",
       "1   JOSEFINA  MADRIGAL   15       Build models\n",
       "4   JOSELINE   CHISAKA   16            Running\n",
       "6        JOE     DALAL   17            Reading"
      ]
     },
     "execution_count": 13,
     "metadata": {},
     "output_type": "execute_result"
    }
   ],
   "source": [
    "df = df.sort_values(by='age')\n",
    "df"
   ]
  },
  {
   "cell_type": "markdown",
   "id": "2fedee3e",
   "metadata": {},
   "source": [
    "## Filter data\n",
    "Data cleaning and filtering is one of the most common uses for spreadsheets or DataFrames and is an integral part of data analysis and analytics.\n",
    "\n",
    "Data filtering allows us to focus on just the data we want to perform analysis or visualize.\n",
    "\n",
    "For this next example, we will import and filter a csv to see which Pokemons are legendary and have a Speed attribute above the median."
   ]
  },
  {
   "cell_type": "code",
   "execution_count": 21,
   "id": "540bfb9b",
   "metadata": {
    "scrolled": false
   },
   "outputs": [
    {
     "data": {
      "text/html": [
       "<div>\n",
       "<style scoped>\n",
       "    .dataframe tbody tr th:only-of-type {\n",
       "        vertical-align: middle;\n",
       "    }\n",
       "\n",
       "    .dataframe tbody tr th {\n",
       "        vertical-align: top;\n",
       "    }\n",
       "\n",
       "    .dataframe thead th {\n",
       "        text-align: right;\n",
       "    }\n",
       "</style>\n",
       "<table border=\"1\" class=\"dataframe\">\n",
       "  <thead>\n",
       "    <tr style=\"text-align: right;\">\n",
       "      <th></th>\n",
       "      <th>#</th>\n",
       "      <th>Name</th>\n",
       "      <th>Type 1</th>\n",
       "      <th>Type 2</th>\n",
       "      <th>HP</th>\n",
       "      <th>Attack</th>\n",
       "      <th>Defense</th>\n",
       "      <th>Sp. Atk</th>\n",
       "      <th>Sp. Def</th>\n",
       "      <th>Speed</th>\n",
       "      <th>Generation</th>\n",
       "      <th>Legendary</th>\n",
       "    </tr>\n",
       "  </thead>\n",
       "  <tbody>\n",
       "    <tr>\n",
       "      <th>0</th>\n",
       "      <td>1</td>\n",
       "      <td>Bulbasaur</td>\n",
       "      <td>Grass</td>\n",
       "      <td>Poison</td>\n",
       "      <td>45</td>\n",
       "      <td>49</td>\n",
       "      <td>49</td>\n",
       "      <td>65</td>\n",
       "      <td>65</td>\n",
       "      <td>45</td>\n",
       "      <td>1</td>\n",
       "      <td>False</td>\n",
       "    </tr>\n",
       "    <tr>\n",
       "      <th>1</th>\n",
       "      <td>2</td>\n",
       "      <td>Ivysaur</td>\n",
       "      <td>Grass</td>\n",
       "      <td>Poison</td>\n",
       "      <td>60</td>\n",
       "      <td>62</td>\n",
       "      <td>63</td>\n",
       "      <td>80</td>\n",
       "      <td>80</td>\n",
       "      <td>60</td>\n",
       "      <td>1</td>\n",
       "      <td>False</td>\n",
       "    </tr>\n",
       "    <tr>\n",
       "      <th>2</th>\n",
       "      <td>3</td>\n",
       "      <td>Venusaur</td>\n",
       "      <td>Grass</td>\n",
       "      <td>Poison</td>\n",
       "      <td>80</td>\n",
       "      <td>82</td>\n",
       "      <td>83</td>\n",
       "      <td>100</td>\n",
       "      <td>100</td>\n",
       "      <td>80</td>\n",
       "      <td>1</td>\n",
       "      <td>False</td>\n",
       "    </tr>\n",
       "    <tr>\n",
       "      <th>3</th>\n",
       "      <td>4</td>\n",
       "      <td>Mega Venusaur</td>\n",
       "      <td>Grass</td>\n",
       "      <td>Poison</td>\n",
       "      <td>80</td>\n",
       "      <td>100</td>\n",
       "      <td>123</td>\n",
       "      <td>122</td>\n",
       "      <td>120</td>\n",
       "      <td>80</td>\n",
       "      <td>1</td>\n",
       "      <td>False</td>\n",
       "    </tr>\n",
       "    <tr>\n",
       "      <th>4</th>\n",
       "      <td>5</td>\n",
       "      <td>Charmander</td>\n",
       "      <td>Fire</td>\n",
       "      <td>NaN</td>\n",
       "      <td>39</td>\n",
       "      <td>52</td>\n",
       "      <td>43</td>\n",
       "      <td>60</td>\n",
       "      <td>50</td>\n",
       "      <td>65</td>\n",
       "      <td>1</td>\n",
       "      <td>False</td>\n",
       "    </tr>\n",
       "  </tbody>\n",
       "</table>\n",
       "</div>"
      ],
      "text/plain": [
       "   #           Name Type 1  Type 2  HP  Attack  Defense  Sp. Atk  Sp. Def  \\\n",
       "0  1      Bulbasaur  Grass  Poison  45      49       49       65       65   \n",
       "1  2        Ivysaur  Grass  Poison  60      62       63       80       80   \n",
       "2  3       Venusaur  Grass  Poison  80      82       83      100      100   \n",
       "3  4  Mega Venusaur  Grass  Poison  80     100      123      122      120   \n",
       "4  5     Charmander   Fire     NaN  39      52       43       60       50   \n",
       "\n",
       "   Speed  Generation  Legendary  \n",
       "0     45           1      False  \n",
       "1     60           1      False  \n",
       "2     80           1      False  \n",
       "3     80           1      False  \n",
       "4     65           1      False  "
      ]
     },
     "execution_count": 21,
     "metadata": {},
     "output_type": "execute_result"
    }
   ],
   "source": [
    "pokemon_legendaries = pd.read_csv('datasets/pokemon.csv')\n",
    "pokemon_legendaries.head()\n",
    "#pokemon_legendaries.Legendary.unique()"
   ]
  },
  {
   "cell_type": "markdown",
   "id": "cae61e03",
   "metadata": {},
   "source": [
    "We can actually see that we have a column named 'Legendary' with *False* values, however at this stage we don't know if there are missing values or we have other values in there, so we will use the **.unique()** method to display what unique values are present in the Legendary column."
   ]
  },
  {
   "cell_type": "code",
   "execution_count": 22,
   "id": "e7a931de",
   "metadata": {
    "scrolled": true
   },
   "outputs": [
    {
     "data": {
      "text/plain": [
       "array([False,  True])"
      ]
     },
     "execution_count": 22,
     "metadata": {},
     "output_type": "execute_result"
    }
   ],
   "source": [
    "pokemon_legendaries.Legendary.unique()"
   ]
  },
  {
   "cell_type": "markdown",
   "id": "71336daa",
   "metadata": {},
   "source": []
  }
 ],
 "metadata": {
  "kernelspec": {
   "display_name": "Python 3",
   "language": "python",
   "name": "python3"
  },
  "language_info": {
   "codemirror_mode": {
    "name": "ipython",
    "version": 3
   },
   "file_extension": ".py",
   "mimetype": "text/x-python",
   "name": "python",
   "nbconvert_exporter": "python",
   "pygments_lexer": "ipython3",
   "version": "3.8.8"
  }
 },
 "nbformat": 4,
 "nbformat_minor": 5
}
