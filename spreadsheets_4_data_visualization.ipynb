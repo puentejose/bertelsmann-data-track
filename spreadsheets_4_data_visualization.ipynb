{
 "cells": [
  {
   "cell_type": "markdown",
   "id": "20ed4542",
   "metadata": {},
   "source": [
    "# Data Visualization\n",
    "\n",
    "Sometimes looking at tables just doesn't cut it, sometimes we need visual aids.\n",
    "\n",
    "Looking at Data in new ways allows us to see new relationships or patterns that aren't easy to see with just numbers.\n",
    "\n",
    "Maybe you need to make a presentation to stakeholders, this is where Data visualization comes in.\n",
    "\n",
    "There are many options to choose from to do data visualization in `Python`, some libraries are:\n",
    "\n",
    "* Matplotlib\n",
    "* Seaborn\n",
    "* Bokeh\n",
    "* Plotly\n",
    "* Altair\n",
    "\n",
    "They all have pros and cons, some of them, like Seaborn, are wrappers over matplotlib.\n",
    "\n",
    "## Pie Chart\n",
    "\n",
    "Pie charts are ubiquitous, you see them in college classes, quarterly reports, in the newspaper and even memes.\n",
    "\n",
    "They are used to demonstrate proportion."
   ]
  },
  {
   "cell_type": "code",
   "execution_count": 1,
   "id": "dafbac7c",
   "metadata": {
    "scrolled": true
   },
   "outputs": [
    {
     "data": {
      "image/png": "[encoded data removed]",
      "text/plain": [
       "<Figure size 432x288 with 1 Axes>"
      ]
     },
     "metadata": {},
     "output_type": "display_data"
    }
   ],
   "source": [
    "# Let's import matplotlib\n",
    "import matplotlib.pyplot as plt\n",
    "\n",
    "#Creating the dataset\n",
    "cars = ['AUDI', 'BMW', 'NISSAN', \n",
    "        'TESLA', 'HYUNDAI', 'HONDA'] \n",
    "data = [20, 15, 17, 22, 14, 20] \n",
    "#Creating the pie chart\n",
    "plt.pie(data, labels = cars,colors = \n",
    "        ['#F0F8FF','#E6E6FA','#B0E0E6','#7B68EE','#483D8B','#6B3FAB'])\n",
    "#Adding the aesthetics\n",
    "plt.title('Title')\n",
    "#Show the plot\n",
    "plt.show()"
   ]
  },
  {
   "cell_type": "markdown",
   "id": "6df78289",
   "metadata": {},
   "source": [
    "For this section, we will keep using pandas to aggregate our data and matplotlib to make charts."
   ]
  },
  {
   "cell_type": "code",
   "execution_count": 6,
   "id": "647e2973",
   "metadata": {
    "scrolled": false
   },
   "outputs": [
    {
     "data": {
      "text/plain": [
       "<AxesSubplot:ylabel='Legendary'>"
      ]
     },
     "execution_count": 6,
     "metadata": {},
     "output_type": "execute_result"
    },
    {
     "data": {
      "image/png": "[encoded data removed]",
      "text/plain": [
       "<Figure size 432x288 with 1 Axes>"
      ]
     },
     "metadata": {},
     "output_type": "display_data"
    }
   ],
   "source": [
    "import pandas as pd\n",
    "\n",
    "df = pd.read_csv('datasets/pokemon.csv')\n",
    "\n",
    "df['Legendary'].value_counts(sort=True).plot.pie()"
   ]
  },
  {
   "cell_type": "markdown",
   "id": "6ee3eb0f",
   "metadata": {},
   "source": [
    "## Bar Chart\n",
    "\n",
    "Bar charts describe values with bars or columns, they help us compare values against each other.\n",
    "\n",
    "## Scatter and Line Plots\n",
    "\n",
    "These type of charts are used to visualize numerical data through time, you probably have seen them on financial reports or over the news.\n",
    "\n",
    "Scatter plots are a little bit more complex in that they are also used to display the relationship between two variable. We can observe positive and negative correlations (*i.e.* if one increases the other also increases, one decreases then the other one too)\n",
    "\n",
    "## Histograms\n",
    "\n",
    "Histograms look a lot like bar charts, they are different in that a histogram shows the frequency of a value in a dataset divided in ranges.\n",
    "\n",
    "## Box Plots\n",
    "\n",
    "You may remember our friend from notebook \\#2, this chart show us the five number summary:\n",
    "\n",
    "* Minimum\n",
    "* First quartile\n",
    "* Median\n",
    "* Third quartile\n",
    "* Maximum\n",
    "\n",
    "The 'box' portion show us the interquartile range or where 50% of the data is."
   ]
  },
  {
   "cell_type": "code",
   "execution_count": 2,
   "id": "f853c82a",
   "metadata": {},
   "outputs": [],
   "source": [
    "# Bar Chart\n"
   ]
  },
  {
   "cell_type": "code",
   "execution_count": null,
   "id": "00ff31bd",
   "metadata": {},
   "outputs": [],
   "source": []
  }
 ],
 "metadata": {
  "kernelspec": {
   "display_name": "Python 3 (ipykernel)",
   "language": "python",
   "name": "python3"
  },
  "language_info": {
   "codemirror_mode": {
    "name": "ipython",
    "version": 3
   },
   "file_extension": ".py",
   "mimetype": "text/x-python",
   "name": "python",
   "nbconvert_exporter": "python",
   "pygments_lexer": "ipython3",
   "version": "3.9.7"
  }
 },
 "nbformat": 4,
 "nbformat_minor": 5
}
