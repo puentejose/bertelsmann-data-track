{
 "cells": [
  {
   "cell_type": "markdown",
   "id": "7d994dd3",
   "metadata": {},
   "source": [
    "# Descriptive Statistics Part II"
   ]
  },
  {
   "cell_type": "markdown",
   "id": "5d4c41dc",
   "metadata": {},
   "source": [
    "## Measures of spread\n",
    "\n",
    "1. Range\n",
    "2. Interquantile Range (IQR)\n",
    "3. Standard Deviation\n",
    "4. Variance\n",
    "\n",
    "### Histogram\n",
    "Most common visual for quantitative data, is represented by a set of bars.\n",
    "\n",
    "When numbers repeat in a dataset, this repetition is known as frequency, of which the histogram is its many representations."
   ]
  },
  {
   "cell_type": "markdown",
   "id": "68e30a98",
   "metadata": {},
   "source": [
    "## 5 Number Summary\n",
    "1. Maximum\n",
    "2. Third Quartile (Q3)\n",
    "3. Second Quartile (Q2, Median)\n",
    "4. First Quartile (Q1)\n",
    "5. Minimum\n",
    "\n",
    "### 1. Maximum\n",
    "It's the largest observed value in the dataset.\n",
    "\n",
    "### 2,3,4. Quartiles (Q1,Q2,Q3)\n",
    "These are three values which divide a dataset in four equal parts, they depict the distribution or dispersion of a dataset.\n",
    "One special value derived from quartiles is the **Interquantile range** also known as IQR, which is calculated by substracting Q1 from Q3.\n",
    "### NOTE: There is not an universal agreement on how to calculate quartiles from discrete distributions (i.e. sets with non-negative integers)\n",
    "\n",
    "For this course we're gonna do the following:\n",
    "1. Calculate the median to divide the dataset into halfsies:\n",
    "    * If there is an odd number of values in the original dataset, **do not include** the median in either half.\n",
    "    * If there is an even number of data points, split it exactly in half.\n",
    "2. The lower quartile (Q1) is the median of the lower half of the data, while the upper quartile (Q3) is the median of the upper half of the data.\n",
    "\n",
    "### 5. Minimum\n",
    "This is the minimum observed value in the dataset"
   ]
  }
 ],
 "metadata": {
  "kernelspec": {
   "display_name": "Python 3",
   "language": "python",
   "name": "python3"
  },
  "language_info": {
   "codemirror_mode": {
    "name": "ipython",
    "version": 3
   },
   "file_extension": ".py",
   "mimetype": "text/x-python",
   "name": "python",
   "nbconvert_exporter": "python",
   "pygments_lexer": "ipython3",
   "version": "3.8.8"
  }
 },
 "nbformat": 4,
 "nbformat_minor": 5
}
