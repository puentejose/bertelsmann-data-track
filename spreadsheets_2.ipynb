{
 "cells": [
  {
   "cell_type": "markdown",
   "id": "23dfcd78",
   "metadata": {},
   "source": [
    "# Manipulating Data\n",
    "\n",
    "You can manipulate data with help of different methods, some of the things you can do are:\n",
    "* Change text\n",
    "* Perform math operations\n",
    "* Sort data"
   ]
  },
  {
   "cell_type": "code",
   "execution_count": null,
   "id": "55447e37",
   "metadata": {},
   "outputs": [],
   "source": [
    "# TODOs\n",
    "# Sum example\n",
    "# Average Example\n",
    "# Substitute text\n",
    "# Remove Duplicate Rows\n",
    "# Split Column by delimiter\n",
    "# Sort Data\n",
    "# Filter data"
   ]
  }
 ],
 "metadata": {
  "kernelspec": {
   "display_name": "Python 3 (ipykernel)",
   "language": "python",
   "name": "python3"
  },
  "language_info": {
   "codemirror_mode": {
    "name": "ipython",
    "version": 3
   },
   "file_extension": ".py",
   "mimetype": "text/x-python",
   "name": "python",
   "nbconvert_exporter": "python",
   "pygments_lexer": "ipython3",
   "version": "3.9.7"
  }
 },
 "nbformat": 4,
 "nbformat_minor": 5
}
