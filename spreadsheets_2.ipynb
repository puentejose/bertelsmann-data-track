{
 "cells": [
  {
   "cell_type": "markdown",
   "id": "23dfcd78",
   "metadata": {},
   "source": [
    "# Manipulating Data\n",
    "\n",
    "You can manipulate data with help of different methods, some of the things you can do are:\n",
    "* Change text\n",
    "* Perform math operations\n",
    "* Sort data"
   ]
  },
  {
   "cell_type": "code",
   "execution_count": 1,
   "id": "55447e37",
   "metadata": {},
   "outputs": [],
   "source": [
    "# TODOs\n",
    "# Sum example\n",
    "# Average Example\n",
    "# Substitute text\n",
    "# Remove Duplicate Rows\n",
    "# Split Column by delimiter\n",
    "# Sort Data\n",
    "# Filter data"
   ]
  },
  {
   "cell_type": "markdown",
   "id": "c4d3abcb",
   "metadata": {},
   "source": [
    "## How to SUM columns in Pandas\n",
    "Adding up columns in pandas is easy, just use the .sum() method."
   ]
  },
  {
   "cell_type": "code",
   "execution_count": 2,
   "id": "be5078cd",
   "metadata": {},
   "outputs": [
    {
     "data": {
      "text/html": [
       "<div>\n",
       "<style scoped>\n",
       "    .dataframe tbody tr th:only-of-type {\n",
       "        vertical-align: middle;\n",
       "    }\n",
       "\n",
       "    .dataframe tbody tr th {\n",
       "        vertical-align: top;\n",
       "    }\n",
       "\n",
       "    .dataframe thead th {\n",
       "        text-align: right;\n",
       "    }\n",
       "</style>\n",
       "<table border=\"1\" class=\"dataframe\">\n",
       "  <thead>\n",
       "    <tr style=\"text-align: right;\">\n",
       "      <th></th>\n",
       "      <th>name</th>\n",
       "      <th>age</th>\n",
       "      <th>favorite hobby</th>\n",
       "    </tr>\n",
       "  </thead>\n",
       "  <tbody>\n",
       "    <tr>\n",
       "      <th>0</th>\n",
       "      <td>Jose</td>\n",
       "      <td>10</td>\n",
       "      <td>Watch anime</td>\n",
       "    </tr>\n",
       "    <tr>\n",
       "      <th>1</th>\n",
       "      <td>Josefina</td>\n",
       "      <td>15</td>\n",
       "      <td>Build models</td>\n",
       "    </tr>\n",
       "    <tr>\n",
       "      <th>2</th>\n",
       "      <td>Joseph</td>\n",
       "      <td>12</td>\n",
       "      <td>Dancing</td>\n",
       "    </tr>\n",
       "    <tr>\n",
       "      <th>3</th>\n",
       "      <td>Jotaro</td>\n",
       "      <td>13</td>\n",
       "      <td>Play Videogames</td>\n",
       "    </tr>\n",
       "    <tr>\n",
       "      <th>4</th>\n",
       "      <td>Joseline</td>\n",
       "      <td>16</td>\n",
       "      <td>Running</td>\n",
       "    </tr>\n",
       "    <tr>\n",
       "      <th>5</th>\n",
       "      <td>Jorge</td>\n",
       "      <td>14</td>\n",
       "      <td>Play with animals</td>\n",
       "    </tr>\n",
       "    <tr>\n",
       "      <th>6</th>\n",
       "      <td>Joe</td>\n",
       "      <td>17</td>\n",
       "      <td>Reading</td>\n",
       "    </tr>\n",
       "  </tbody>\n",
       "</table>\n",
       "</div>"
      ],
      "text/plain": [
       "       name  age     favorite hobby\n",
       "0      Jose   10        Watch anime\n",
       "1  Josefina   15       Build models\n",
       "2    Joseph   12            Dancing\n",
       "3    Jotaro   13    Play Videogames\n",
       "4  Joseline   16            Running\n",
       "5     Jorge   14  Play with animals\n",
       "6       Joe   17            Reading"
      ]
     },
     "execution_count": 2,
     "metadata": {},
     "output_type": "execute_result"
    }
   ],
   "source": [
    "import pandas as pd\n",
    "\n",
    "data = [['Jose',10, 'Watch anime'],['Josefina',15, \"Build models\"],['Joseph',12, 'Dancing'],['Jotaro',13, 'Play Videogames'], ['Joseline',16, 'Running'],['Jorge', 14, 'Play with animals'],['Joe',17,'Reading']]\n",
    "df = pd.DataFrame(data,columns=['name','age','favorite hobby'])\n",
    "df"
   ]
  },
  {
   "cell_type": "code",
   "execution_count": 3,
   "id": "44b9a7fd",
   "metadata": {},
   "outputs": [
    {
     "name": "stdout",
     "output_type": "stream",
     "text": [
      "The total years sum is 97.00\n"
     ]
    }
   ],
   "source": [
    "jojos_total_years_sum = df['age'].sum()\n",
    "print(f'The total years sum is {jojos_total_years_sum:.2f}')"
   ]
  },
  {
   "cell_type": "markdown",
   "id": "e31384f6",
   "metadata": {},
   "source": [
    "## Mean\n",
    "We use the mean() method, this is sorta becoming repetitive."
   ]
  },
  {
   "cell_type": "code",
   "execution_count": 4,
   "id": "80101cde",
   "metadata": {},
   "outputs": [
    {
     "name": "stdout",
     "output_type": "stream",
     "text": [
      "The average age of these JoJo's is: 13.86\n"
     ]
    }
   ],
   "source": [
    "jojos_age_mean = df['age'].mean()\n",
    "print(f'The average age of these JoJo\\'s is: {jojos_age_mean:.2f}')"
   ]
  },
  {
   "cell_type": "markdown",
   "id": "2110e853",
   "metadata": {},
   "source": [
    "## Replace Text\n",
    "This is how you replace text on a single column with Pandas.\n",
    "\n",
    "Notice that the str.replace method returns just the column without changing te original dataframe, so we have to assign the returned value to the original dataframe column."
   ]
  },
  {
   "cell_type": "code",
   "execution_count": 5,
   "id": "4f01bb9f",
   "metadata": {
    "scrolled": true
   },
   "outputs": [],
   "source": [
    "df['favorite hobby'] = df['favorite hobby'].str.replace('anime','cartoons')"
   ]
  },
  {
   "cell_type": "code",
   "execution_count": 6,
   "id": "8c418785",
   "metadata": {},
   "outputs": [
    {
     "data": {
      "text/html": [
       "<div>\n",
       "<style scoped>\n",
       "    .dataframe tbody tr th:only-of-type {\n",
       "        vertical-align: middle;\n",
       "    }\n",
       "\n",
       "    .dataframe tbody tr th {\n",
       "        vertical-align: top;\n",
       "    }\n",
       "\n",
       "    .dataframe thead th {\n",
       "        text-align: right;\n",
       "    }\n",
       "</style>\n",
       "<table border=\"1\" class=\"dataframe\">\n",
       "  <thead>\n",
       "    <tr style=\"text-align: right;\">\n",
       "      <th></th>\n",
       "      <th>name</th>\n",
       "      <th>age</th>\n",
       "      <th>favorite hobby</th>\n",
       "    </tr>\n",
       "  </thead>\n",
       "  <tbody>\n",
       "    <tr>\n",
       "      <th>0</th>\n",
       "      <td>Jose</td>\n",
       "      <td>10</td>\n",
       "      <td>Watch cartoons</td>\n",
       "    </tr>\n",
       "    <tr>\n",
       "      <th>1</th>\n",
       "      <td>Josefina</td>\n",
       "      <td>15</td>\n",
       "      <td>Build models</td>\n",
       "    </tr>\n",
       "    <tr>\n",
       "      <th>2</th>\n",
       "      <td>Joseph</td>\n",
       "      <td>12</td>\n",
       "      <td>Dancing</td>\n",
       "    </tr>\n",
       "    <tr>\n",
       "      <th>3</th>\n",
       "      <td>Jotaro</td>\n",
       "      <td>13</td>\n",
       "      <td>Play Videogames</td>\n",
       "    </tr>\n",
       "    <tr>\n",
       "      <th>4</th>\n",
       "      <td>Joseline</td>\n",
       "      <td>16</td>\n",
       "      <td>Running</td>\n",
       "    </tr>\n",
       "    <tr>\n",
       "      <th>5</th>\n",
       "      <td>Jorge</td>\n",
       "      <td>14</td>\n",
       "      <td>Play with animals</td>\n",
       "    </tr>\n",
       "    <tr>\n",
       "      <th>6</th>\n",
       "      <td>Joe</td>\n",
       "      <td>17</td>\n",
       "      <td>Reading</td>\n",
       "    </tr>\n",
       "  </tbody>\n",
       "</table>\n",
       "</div>"
      ],
      "text/plain": [
       "       name  age     favorite hobby\n",
       "0      Jose   10     Watch cartoons\n",
       "1  Josefina   15       Build models\n",
       "2    Joseph   12            Dancing\n",
       "3    Jotaro   13    Play Videogames\n",
       "4  Joseline   16            Running\n",
       "5     Jorge   14  Play with animals\n",
       "6       Joe   17            Reading"
      ]
     },
     "execution_count": 6,
     "metadata": {},
     "output_type": "execute_result"
    }
   ],
   "source": [
    "df"
   ]
  },
  {
   "cell_type": "markdown",
   "id": "1e97648e",
   "metadata": {},
   "source": [
    "## Format text\n",
    "We can also format text with string methods like str.upper(), str.lower(), str.capitalize() & str.title()"
   ]
  },
  {
   "cell_type": "code",
   "execution_count": 7,
   "id": "0b0fc345",
   "metadata": {},
   "outputs": [
    {
     "data": {
      "text/html": [
       "<div>\n",
       "<style scoped>\n",
       "    .dataframe tbody tr th:only-of-type {\n",
       "        vertical-align: middle;\n",
       "    }\n",
       "\n",
       "    .dataframe tbody tr th {\n",
       "        vertical-align: top;\n",
       "    }\n",
       "\n",
       "    .dataframe thead th {\n",
       "        text-align: right;\n",
       "    }\n",
       "</style>\n",
       "<table border=\"1\" class=\"dataframe\">\n",
       "  <thead>\n",
       "    <tr style=\"text-align: right;\">\n",
       "      <th></th>\n",
       "      <th>name</th>\n",
       "      <th>age</th>\n",
       "      <th>favorite hobby</th>\n",
       "    </tr>\n",
       "  </thead>\n",
       "  <tbody>\n",
       "    <tr>\n",
       "      <th>0</th>\n",
       "      <td>JOSE</td>\n",
       "      <td>10</td>\n",
       "      <td>Watch cartoons</td>\n",
       "    </tr>\n",
       "    <tr>\n",
       "      <th>1</th>\n",
       "      <td>JOSEFINA</td>\n",
       "      <td>15</td>\n",
       "      <td>Build models</td>\n",
       "    </tr>\n",
       "    <tr>\n",
       "      <th>2</th>\n",
       "      <td>JOSEPH</td>\n",
       "      <td>12</td>\n",
       "      <td>Dancing</td>\n",
       "    </tr>\n",
       "    <tr>\n",
       "      <th>3</th>\n",
       "      <td>JOTARO</td>\n",
       "      <td>13</td>\n",
       "      <td>Play Videogames</td>\n",
       "    </tr>\n",
       "    <tr>\n",
       "      <th>4</th>\n",
       "      <td>JOSELINE</td>\n",
       "      <td>16</td>\n",
       "      <td>Running</td>\n",
       "    </tr>\n",
       "  </tbody>\n",
       "</table>\n",
       "</div>"
      ],
      "text/plain": [
       "       name  age   favorite hobby\n",
       "0      JOSE   10   Watch cartoons\n",
       "1  JOSEFINA   15     Build models\n",
       "2    JOSEPH   12          Dancing\n",
       "3    JOTARO   13  Play Videogames\n",
       "4  JOSELINE   16          Running"
      ]
     },
     "execution_count": 7,
     "metadata": {},
     "output_type": "execute_result"
    }
   ],
   "source": [
    "df['name'] = df['name'].str.upper()\n",
    "df.head()"
   ]
  }
 ],
 "metadata": {
  "kernelspec": {
   "display_name": "Python 3",
   "language": "python",
   "name": "python3"
  },
  "language_info": {
   "codemirror_mode": {
    "name": "ipython",
    "version": 3
   },
   "file_extension": ".py",
   "mimetype": "text/x-python",
   "name": "python",
   "nbconvert_exporter": "python",
   "pygments_lexer": "ipython3",
   "version": "3.8.8"
  }
 },
 "nbformat": 4,
 "nbformat_minor": 5
}
