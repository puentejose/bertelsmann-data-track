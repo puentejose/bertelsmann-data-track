{
 "cells": [
  {
   "cell_type": "markdown",
   "id": "bc845cf9",
   "metadata": {},
   "source": [
    "# Analyze Data\n",
    "\n",
    "#### Note: These notebooks follow the Businness Analytics Scholarship Program from Udemy and Bertelsmann, originally intended for use with spreadsheet software, I decided to keep the curriculum in the original order, so some topics will feel out of place when translated for use with Pandas.\n",
    "\n",
    "## Aggregate functions\n",
    "\n",
    "Aggregate functions are functions that act over a range of data and return just a single value, for example the `SUM` function in excel or sql. They allows us to perform operations over several rows of our DataFrame.\n",
    "\n",
    "Other examples include `average`, `max`, `min`, `stdev` and `median`.\n",
    "\n",
    "## Logical Functions\n",
    "\n",
    "### IF\n",
    "\n",
    "`if` allows us to return different outputs depending on a condition, how can we declare those conditions, with comparison operators.\n",
    "\n",
    "### Comparison Operators (>,<,==,>=,>=, !=)\n",
    "\n",
    "These comparison operators compare values and they return a boolean value, `True` or `False`.\n",
    "* `>` greater than\n",
    "* `<` less than\n",
    "* `==` equal\n",
    "* `>=` greater than or equal to\n",
    "* `<=` less than or equal to\n",
    "* `!=` not equal\n",
    "\n",
    "### AND, OR, NOT\n",
    "\n",
    "## Conditional Aggregation Functions\n",
    "\n",
    "Pandas doesn't have a native COUNTIF or SUMIF equivalent, however we can combine functions and operators to perform them."
   ]
  }
 ],
 "metadata": {
  "kernelspec": {
   "display_name": "Python 3 (ipykernel)",
   "language": "python",
   "name": "python3"
  },
  "language_info": {
   "codemirror_mode": {
    "name": "ipython",
    "version": 3
   },
   "file_extension": ".py",
   "mimetype": "text/x-python",
   "name": "python",
   "nbconvert_exporter": "python",
   "pygments_lexer": "ipython3",
   "version": "3.9.7"
  }
 },
 "nbformat": 4,
 "nbformat_minor": 5
}
