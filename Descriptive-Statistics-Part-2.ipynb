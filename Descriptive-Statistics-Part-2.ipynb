{
 "cells": [
  {
   "cell_type": "markdown",
   "id": "7d994dd3",
   "metadata": {},
   "source": [
    "# Descriptive Statistics Part II"
   ]
  },
  {
   "cell_type": "markdown",
   "id": "5d4c41dc",
   "metadata": {},
   "source": [
    "## Measures of spread\n",
    "\n",
    "1. Range\n",
    "2. Interquantile Range (IQR)\n",
    "3. Standard Deviation\n",
    "4. Variance\n",
    "\n",
    "### Histogram\n",
    "Most common visual for quantitative data, is represented by a set of bars.\n",
    "\n",
    "When numbers repeat in a dataset, this repetition is known as frequency, of which the histogram is its many representations."
   ]
  },
  {
   "cell_type": "markdown",
   "id": "68e30a98",
   "metadata": {},
   "source": [
    "## Five Number Summary\n",
    "1. Maximum\n",
    "2. Third Quartile (Q3)\n",
    "3. Second Quartile (Q2, Median)\n",
    "4. First Quartile (Q1)\n",
    "5. Minimum\n",
    "\n",
    "### 1. Maximum\n",
    "It's the largest observed value in the dataset.\n",
    "\n",
    "### 2,3,4. Quartiles (Q1,Q2,Q3)\n",
    "These are three values which divide a dataset in four equal parts, they depict the distribution or dispersion of a dataset.\n",
    "One special value derived from quartiles is the **Interquantile range** also known as IQR, which is calculated by substracting Q1 from Q3.\n",
    "### NOTE: There is not an universal agreement on how to calculate quartiles from discrete distributions (i.e. sets with non-negative integers)\n",
    "\n",
    "For this course we're gonna do the following:\n",
    "1. Calculate the median to divide the dataset into halfsies:\n",
    "    * If there is an odd number of values in the original dataset, **do not include** the median in either half.\n",
    "    * If there is an even number of data points, split it exactly in half.\n",
    "2. The lower quartile (Q1) is the median of the lower half of the data, while the upper quartile (Q3) is the median of the upper half of the data.\n",
    "\n",
    "### 5. Minimum\n",
    "This is the minimum observed value in the dataset"
   ]
  },
  {
   "cell_type": "markdown",
   "id": "a759e58e",
   "metadata": {},
   "source": [
    "## Box plots\n",
    "\n",
    "Box plots are a useful visual device for looking at a distribution at a glance or comparing two different datasets.\n",
    "\n",
    "### How to read a Box plot:\n",
    "1. First we notice the range, that is the beginning of the line to the left of the \"box\" part of the plot and the end of the line to the right of the box.\n",
    "2. The main body or box represents the IQR, it starts at the Q1 value and ends at Q3, 50% of the values within this box.\n",
    "3. Inside the box, we mark the median with a vertical line."
   ]
  },
  {
   "cell_type": "code",
   "execution_count": 38,
   "id": "297cc65a",
   "metadata": {},
   "outputs": [
    {
     "data": {
      "image/png": "[encoded data removed]",
      "text/plain": [
       "<Figure size 432x288 with 1 Axes>"
      ]
     },
     "metadata": {
      "needs_background": "light"
     },
     "output_type": "display_data"
    }
   ],
   "source": [
    "# Let's import matplotlib\n",
    "import matplotlib.pyplot as plt \n",
    "\n",
    "# We use some hardcoded data\n",
    "data = [15, 4, 3, 8, 15, 22, 7, 9, 2, 3, 3, 12, 6]\n",
    "\n",
    "# Fought with how to change the box color, had to declare this dict for the median\n",
    "medianprops = dict(color='#4a6274')\n",
    "\n",
    "# We create our boxplot, we pass our data, make it horizontal, turn on color customization and pass our median properties\n",
    "box = plt.boxplot(data, vert=False, patch_artist=True, medianprops=medianprops)\n",
    "plt.title(\"Boxplot\")\n",
    "\n",
    "# Dunno why I couldn't change color easily, so now you have this monstruosity.\n",
    "color = ['#f9ddd2']\n",
    "for patch, color in zip(box['boxes'], color):\n",
    "    patch.set_facecolor(color)\n",
    "# Plot graph\n",
    "plt.show()"
   ]
  },
  {
   "cell_type": "markdown",
   "id": "ac9d286a",
   "metadata": {},
   "source": [
    "## Variance and Standard Deviation\n",
    "\n",
    "The two measures of spread are intertwined, variance and its squared root, the standard deviation are based on the distance between each data point and the mean.\n",
    "\n",
    "The variance is defined as **the average squared difference of each observation from the mean**:\n",
    "\n",
    "\\begin{equation}\n",
    "S^2 = \\frac{1}{n}\\sum_{i=1}^{n} (x_i-\\overline{x})^2\n",
    "\\end{equation}\n",
    "\n",
    "Variance is used to compare the spread of different groups, a set with a higher variance is more spread out than other dataset with a lower variance, however you should always check out if there are outliers that are skewing the data.\n",
    "\n",
    "The **standard deviation** is the square root of the variance, generally represented by an *S* or by the greek letter sigma.\n",
    "\n",
    "\\begin{equation}\n",
    "S = \\sigma = \\sqrt{\\frac{1}{n}\\sum_{i=1}^{n} (x_i-\\overline{x})^2}\n",
    "\\end{equation}\n",
    "\n",
    "One important detail is that **the standard deviation shares the same units with the observed values from the dataset** so it's easier to understand."
   ]
  },
  {
   "cell_type": "markdown",
   "id": "0f6e8c9a",
   "metadata": {},
   "source": [
    "## Shape\n",
    "The shape of a histogram can tell us a lot at a glance. Distribution of data comes in three shapes:\n",
    "1. Right-skewed - Mean is greater than the median, *e.g.* distribution of household income. \n",
    "2. Symmetric or normally distributed - Mean equal to the median, *e.g.* height of a population. \n",
    "3. Left-skewed - Mean is less than the median,  *e.g.* Age of death."
   ]
  },
  {
   "cell_type": "markdown",
   "id": "fa9d2705",
   "metadata": {},
   "source": [
    "## Outliers\n",
    "There are points that are far from the rest of our data, these outliers can have a great impact on the mean and standard deviation.\n",
    "\n",
    "### How to work with outliers\n",
    "1. Acknowledge they exist and they change your distribution.\n",
    "2. Take a closer look at your data, it could be a typo.\n",
    "3. Understand why they exist.\n",
    "4. Five number summary can be better to represent our data than the mean and standard deviation when there are outliers.\n",
    "5. Always be careful in reporting, ask the right questions."
   ]
  }
 ],
 "metadata": {
  "kernelspec": {
   "display_name": "Python 3 (ipykernel)",
   "language": "python",
   "name": "python3"
  },
  "language_info": {
   "codemirror_mode": {
    "name": "ipython",
    "version": 3
   },
   "file_extension": ".py",
   "mimetype": "text/x-python",
   "name": "python",
   "nbconvert_exporter": "python",
   "pygments_lexer": "ipython3",
   "version": "3.9.7"
  }
 },
 "nbformat": 4,
 "nbformat_minor": 5
}
